{
 "cells": [
  {
   "cell_type": "markdown",
   "metadata": {},
   "source": [
    "# Welcome\n",
    "### Today I want to tell you about me and one of my favourite holiday destinations!\n",
    "\n",
    "## About me\n",
    "- My Name is **Kim**\n",
    "![Kim](https://profile-images.xing.com/images/9d8a04b75c5fec54b4b0b81ebe699dc9-2/kim-buchner.1024x1024.jpg)\n",
    "- I love practicing *yoga* and I love *plants*\n",
    "- Check out my [LinkedIn](https://www.linkedin.com/in/kim-buchner/)\n",
    "\n",
    "## El Naranjo, La Huasteca SLP México\n",
    "![El Naranjo, La Huasteca](https://mxcity.mx/wp-content/uploads/2020/10/cascadas-el-naranjo-min-768x425.png)\n",
    "\n",
    "#### To see the full beauty of this place, check out this nice Video:\n",
    "\n",
    "[![IMAGE ALT TEXT HERE](http://img.youtube.com/vi/yTpyhoZn2TI/0.jpg)](https://www.youtube.com/watch?v=yTpyhoZn2TI)\n",
    "\n",
    "\n",
    "##### The purpose of this notebook\n",
    "1. Practice using Markdown language\n",
    "2. Have fun :)\n",
    "3. Find out about your favourite destinations!"
   ]
  },
  {
   "cell_type": "code",
   "execution_count": 1,
   "metadata": {},
   "outputs": [
    {
     "name": "stdout",
     "output_type": "stream",
     "text": [
      "What place do you like: Hawaii\n"
     ]
    }
   ],
   "source": [
    "x = input(\"What place do you like: \")"
   ]
  },
  {
   "cell_type": "code",
   "execution_count": 2,
   "metadata": {},
   "outputs": [
    {
     "name": "stdout",
     "output_type": "stream",
     "text": [
      "Hawaii\n"
     ]
    }
   ],
   "source": [
    "print(x)"
   ]
  }
 ],
 "metadata": {
  "kernelspec": {
   "display_name": "Python 3",
   "language": "python",
   "name": "python3"
  },
  "language_info": {
   "codemirror_mode": {
    "name": "ipython",
    "version": 3
   },
   "file_extension": ".py",
   "mimetype": "text/x-python",
   "name": "python",
   "nbconvert_exporter": "python",
   "pygments_lexer": "ipython3",
   "version": "3.8.5"
  }
 },
 "nbformat": 4,
 "nbformat_minor": 4
}
