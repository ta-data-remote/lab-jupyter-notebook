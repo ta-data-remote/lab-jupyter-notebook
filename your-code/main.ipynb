{
 "cells": [
  {
   "cell_type": "markdown",
   "metadata": {},
   "source": [
    "# <span style=\"font-size:100px\">&#129409;</span> <span style='font-size:100px;'>&#127758;</span>\n",
    "\n",
    "# Me and my holiday preferences\n",
    "\n"
   ]
  },
  {
   "cell_type": "markdown",
   "metadata": {},
   "source": [
    "> “Take a vacation so long that you forget all, ~~even your passwords~~.”— Unknown\n"
   ]
  },
  {
   "cell_type": "markdown",
   "metadata": {},
   "source": [
    "[Purpose of the notebook](#Purpose-of-the-notebook)\n",
    "\n",
    "\n",
    "[Who am I?](#Who-am-I?)\n",
    "\n",
    "\n",
    "[Picture of Emanuele enjoying his holidays](#Picture-of-Emanuele-enjoying-his-holidays:)\n",
    "\n",
    "\n",
    "[_Must-haves_ in Emanuele's holiday](#Must-haves-in-Emanuele's-holiday)\n",
    "\n",
    "[Holiday preferences](#Holiday-preferences)\n",
    "\n",
    "[The ideal vacation for Emanuele](#The-ideal-vacation-for-Emanuele)\n",
    "\n",
    "\n",
    "[Your section!](#Your-section!)"
   ]
  },
  {
   "cell_type": "markdown",
   "metadata": {},
   "source": [
    "## Purpose of the notebook\n",
    "\n",
    "_The purpose of this notebook is to get to know Emanuele and his holiday preferences!_"
   ]
  },
  {
   "cell_type": "markdown",
   "metadata": {},
   "source": [
    "## Who am I?\n"
   ]
  },
  {
   "cell_type": "markdown",
   "metadata": {},
   "source": [
    "My name is Emanuele, I'm 27 years old and I believe that travelling and having a few days to disconnect can be one of the most *rejuvenating* things in life."
   ]
  },
  {
   "attachments": {
    "mr-bean-1.jpg": {
     "image/jpeg": "[encoded data removed]"
    }
   },
   "cell_type": "markdown",
   "metadata": {},
   "source": [
    "### Picture of Emanuele enjoying his holidays:\n",
    "![mr-bean-1.jpg](attachment:mr-bean-1.jpg)\n",
    "_If you don't look like this... Are you really on holiday?_"
   ]
  },
  {
   "cell_type": "markdown",
   "metadata": {},
   "source": [
    "## _Must-haves_ in Emanuele's holiday\n",
    "For me there are 4 main things that make a perfect holiday:\n",
    "   * Nature and tranquility\n",
    "   * Learning about new places & cultures\n",
    "   * Good company\n",
    "   * Having enough time to enjoy it\n",
    "    \n",
    "*If at least 2 of these conditions are met... For sure that I'm enjoying my holidays!*"
   ]
  },
  {
   "cell_type": "markdown",
   "metadata": {},
   "source": [
    "## Holiday preferences\n",
    "\n",
    "These are Emanuele's holiday preferences:\n",
    "1. **Sunny** and close to the beach vacations <span style='font-size:18px;'>&#127774;</span>\n",
    "2. **Adventurous tours**, do something special, like rock-climbing, archery, etc <span style='font-size:18px;'>&#128758;</span>\n",
    "3. **_Gastro-tourism_**, forget about everything, even your weight <span style='font-size:18px;'>&#128523;</span>\n",
    "\n",
    "\n",
    "\n"
   ]
  },
  {
   "cell_type": "markdown",
   "metadata": {},
   "source": [
    "## The ideal vacation for Emanuele"
   ]
  },
  {
   "cell_type": "code",
   "execution_count": 1,
   "metadata": {},
   "outputs": [
    {
     "name": "stderr",
     "output_type": "stream",
     "text": [
      "C:\\Users\\Emanuele\\anaconda3\\lib\\site-packages\\IPython\\core\\display.py:717: UserWarning: Consider using IPython.display.IFrame instead\n",
      "  warnings.warn(\"Consider using IPython.display.IFrame instead\")\n"
     ]
    },
    {
     "data": {
      "text/html": [
       "<iframe width=\"560\" height=\"315\" src=\"https://www.youtube.com/embed/VwJCHnk7C-Q?rel=0&amp;controls=0&amp;showinfo=0\" frameborder=\"0\" allowfullscreen></iframe>"
      ],
      "text/plain": [
       "<IPython.core.display.HTML object>"
      ]
     },
     "execution_count": 1,
     "metadata": {},
     "output_type": "execute_result"
    }
   ],
   "source": [
    "\n",
    "from IPython.display import HTML\n",
    "HTML('<iframe width=\"560\" height=\"315\" src=\"https://www.youtube.com/embed/VwJCHnk7C-Q?rel=0&amp;controls=0&amp;showinfo=0\" frameborder=\"0\" allowfullscreen></iframe>')"
   ]
  },
  {
   "cell_type": "markdown",
   "metadata": {},
   "source": [
    "In my experience Italy is the best destination.\n",
    "\n",
    "There's practically _everything_ in this marvelouse country!\n",
    "\n",
    "* One of the best cuisines there is. <span style='font-size:20px;'>&#127829;</span>\n",
    "* A destination with endless possibilities in sightseeing and nature! <span style='font-size:20px;'>&#128511;</span>\n",
    "* Great choice for many types of budgets and interests. <span style='font-size:20px;'>&#128747;</span>"
   ]
  },
  {
   "cell_type": "markdown",
   "metadata": {},
   "source": [
    "## Your section!"
   ]
  },
  {
   "cell_type": "code",
   "execution_count": null,
   "metadata": {},
   "outputs": [],
   "source": [
    "user_name = input(\"Please write your name:\")\n",
    "\n",
    "user_name.isalpha() == True\n",
    "\n",
    "while user_name:\n",
    "    if user_name.isalpha() == True:\n",
    "        print('Great,', user_name,'! Please now write 3 preferences in holidays, one by one.')\n",
    "        break\n",
    "    else:  \n",
    "        user_name = input(\"Please enter only letters:\")\n",
    "        \n",
    "\n",
    "\n",
    "\n",
    "user_prefs1 = input(\"Please the first preference:\")\n",
    "user_prefs2 = input(\"Please the second preference:\")\n",
    "user_prefs3 = input(\"Please the third preference:\")\n",
    "\n",
    "print(\"So...\", user_name, 'has the following preferences:')\n",
    "print(user_prefs1)\n",
    "print(user_prefs2)\n",
    "print(user_prefs3)"
   ]
  },
  {
   "cell_type": "code",
   "execution_count": null,
   "metadata": {},
   "outputs": [],
   "source": []
  }
 ],
 "metadata": {
  "kernelspec": {
   "display_name": "Python 3",
   "language": "python",
   "name": "python3"
  },
  "language_info": {
   "codemirror_mode": {
    "name": "ipython",
    "version": 3
   },
   "file_extension": ".py",
   "mimetype": "text/x-python",
   "name": "python",
   "nbconvert_exporter": "python",
   "pygments_lexer": "ipython3",
   "version": "3.8.8"
  }
 },
 "nbformat": 4,
 "nbformat_minor": 4
}
