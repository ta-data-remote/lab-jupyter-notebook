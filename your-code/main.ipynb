{
 "cells": [
  {
   "cell_type": "markdown",
   "id": "93406cd8",
   "metadata": {
    "tags": [
     "Title"
    ]
   },
   "source": [
    "# <span style=\"color:blue\">One of my favourite destination tourist place\n"
   ]
  },
  {
   "cell_type": "markdown",
   "id": "d1ec3ea5",
   "metadata": {},
   "source": [
    "***\n"
   ]
  },
  {
   "attachments": {
    "Chania%20Crete%20Island.jpeg": {
     "image/jpeg": "[encoded data removed]"
    }
   },
   "cell_type": "markdown",
   "id": "5e7ceade",
   "metadata": {},
   "source": [
    "\n",
    "###  Hi, myself Ayub Pathan from Frankfurt Germany. \n",
    "### I would like to explain here why I love to go to Crete Island.\n",
    "***\n",
    "\n",
    "###  <span style=\"color:Orange\"> There are different locations to visit; however, most famous of them are:\n",
    "\n",
    "* Chania\n",
    "* Heraklion \n",
    "\n",
    "***\n",
    "### <span style=\"color:Green\"> Here are some points to consider why one should visit this beautiful Greek Island:\n",
    "\n",
    "1. One of the largest island in Greece!\n",
    "2. Beautiful beaches with crystal clean & blue water\n",
    "3. Delicious sea foods and local cuisines\n",
    "4. Unique tours and activities\n",
    "5. Wild Nature & huge mountains\n",
    "6. Ancient olive tree\n",
    "7. &..&.. list goes on\n",
    "\n",
    "    \n",
    "### <span style=\"color:Red\"> Here are interesting things you can do on this island:\n",
    "- Relax & Swim at various beautiful beaches\n",
    "- Taste various tasty mediterrian as well as well Greek dishes\n",
    "- Wander through Chania town & eat at Tamam\n",
    "- Take Hamam\n",
    "- Buy traditionally extracted olive oil\n",
    "- Buy beautiful hand-crafted show pieces\n",
    "- Visit fishing village of sissi & Knossos palace\n",
    "- Sail boat\n",
    "- & last but not least - one of best of all - make a day to trip to Santorini\n",
    "        \n",
    "***    \n",
    "### <span style=\"color:Violet\">Here are few links to guide you well:\n",
    "* <https://thetravelporter.com/blog/2016/7/15/crete-7-reasons-to-visit-greeces-big-island#:~:text=The%20island%20of%20Crete%20is,in%20that%20magical%20Mediterranean%20light>\n",
    "\n",
    "* [Click here to know more about Chania](https://www.youtube.com/watch?v=l90oLOlK2a8)\n",
    "\n",
    "***\n",
    "### Looking to explore more ????\n",
    "+            ------> [Hit here ;)](https://www.youtube.com/watch?v=A23yvVlL3qg) <-------\n",
    "                                                                                         \n",
    "***                                                                                         \n",
    "                \n",
    "                                                                                       \n",
    "![Chania%20Crete%20Island.jpeg](attachment:Chania%20Crete%20Island.jpeg)\n",
    "                                                                                         \n",
    "                                                                         \n",
    "                                                                                         \n",
    "                                                                                         \n",
    "                                                                                         \n",
    "                                                                \n",
    "                                                                                         \n",
    "                                                           "
   ]
  },
  {
   "cell_type": "markdown",
   "id": "2990770e",
   "metadata": {},
   "source": [
    "***"
   ]
  },
  {
   "cell_type": "markdown",
   "id": "adb3673e",
   "metadata": {},
   "source": [
    "## Here is a brief description why we should use jupyter notebook"
   ]
  },
  {
   "cell_type": "markdown",
   "id": "e7d08b84",
   "metadata": {},
   "source": [
    "#### “The Jupyter Notebook is an open-source web application that allows you to create and share documents that contain live code, equations, visualizations and explanatory text. Uses include: data cleaning and transformation, numerical simulation, statistical modeling, machine learning and much more.”\n",
    "\n",
    "–description from Project Jupyter"
   ]
  },
  {
   "cell_type": "markdown",
   "id": "b74e2de8",
   "metadata": {},
   "source": [
    "- *It can be used for multiple purposes as explained in above description*\n",
    "     - *Lets write a simple mathematical equation - pythogorous thereom*"
   ]
  },
  {
   "cell_type": "markdown",
   "id": "1e7e659e",
   "metadata": {},
   "source": [
    "Pythogorous theorem: $ x^2 + y^2 = z^2 $\n"
   ]
  },
  {
   "cell_type": "markdown",
   "id": "25b0c3fe",
   "metadata": {},
   "source": [
    "- We can use markdown to plot the data as well as show visualisation.\n",
    "  - One of the example of data plotting is shown in the below option by using matplotlib and  numpy function!"
   ]
  },
  {
   "cell_type": "code",
   "execution_count": 18,
   "id": "b7f1bc8b",
   "metadata": {},
   "outputs": [
    {
     "data": {
      "text/plain": [
       "(array([22., 12., 11.,  9.,  9.,  8.,  8.,  7.,  7.,  7.]),\n",
       " array([0. , 0.1, 0.2, 0.3, 0.4, 0.5, 0.6, 0.7, 0.8, 0.9, 1. ]),\n",
       " <BarContainer object of 10 artists>)"
      ]
     },
     "execution_count": 18,
     "metadata": {},
     "output_type": "execute_result"
    },
    {
     "data": {
      "image/png": "[encoded data removed]",
      "text/plain": [
       "<Figure size 432x288 with 1 Axes>"
      ]
     },
     "metadata": {
      "needs_background": "light"
     },
     "output_type": "display_data"
    }
   ],
   "source": [
    "%matplotlib inline\n",
    "from matplotlib import pyplot as plt\n",
    "import numpy as np\n",
    "x = np.linspace(0,1,100)**1.5\n",
    "plt.hist(x)"
   ]
  },
  {
   "cell_type": "markdown",
   "id": "8c892b8d",
   "metadata": {
    "slideshow": {
     "slide_type": "slide"
    }
   },
   "source": [
    "#### We can create slides to show presentation by using Markdown which I personally found very interesting.\n"
   ]
  },
  {
   "cell_type": "code",
   "execution_count": null,
   "id": "fe8585fb",
   "metadata": {},
   "outputs": [],
   "source": []
  }
 ],
 "metadata": {
  "kernelspec": {
   "display_name": "Python 3",
   "language": "python",
   "name": "python3"
  },
  "language_info": {
   "codemirror_mode": {
    "name": "ipython",
    "version": 3
   },
   "file_extension": ".py",
   "mimetype": "text/x-python",
   "name": "python",
   "nbconvert_exporter": "python",
   "pygments_lexer": "ipython3",
   "version": "3.8.10"
  }
 },
 "nbformat": 4,
 "nbformat_minor": 5
}
