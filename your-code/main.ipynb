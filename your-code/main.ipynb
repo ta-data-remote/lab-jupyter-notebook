{
 "cells": [
  {
   "cell_type": "markdown",
   "metadata": {},
   "source": [
    "## Holidays Preference"
   ]
  },
  {
   "cell_type": "markdown",
   "metadata": {},
   "source": [
    "Welcome to Julia's notebook. Here you can find many information about her holiday preferences such **pictures**, **videos**, **local food recipes**."
   ]
  },
  {
   "cell_type": "markdown",
   "metadata": {},
   "source": [
    "Julia's Favorite holiday destination is South Korea. Click [here](https://www.youtube.com/watch?v=ckfOIEx8yqU) for a first view of the country."
   ]
  },
  {
   "cell_type": "markdown",
   "metadata": {},
   "source": [
    "In the picture below you can see Julia in front on thee Gyeongbokgung Palace in Seoul.\n",
    "\n",
    "![Picture](https://images1.westend61.de/0000799313pw/south-korea-seoul-woman-taking-a-selfie-with-smartphone-at-gyeongbokgung-palace-GEMF01765.jpg)"
   ]
  },
  {
   "cell_type": "markdown",
   "metadata": {},
   "source": [
    "# Index\n",
    "* [Location of South Korea](#chapter1)\n",
    "    * [Map](#chapter2)\n",
    "* [Food and Recipes](#chapter3)\n",
    "    * [Kimchi](#chapter4)\n",
    "    * [TTeokkbokki](#chapter5)"
   ]
  },
  {
   "cell_type": "markdown",
   "metadata": {},
   "source": [
    "## 1. Location of South Korea <a class=\"anchor\" id=\"chapter1\"></a>"
   ]
  },
  {
   "cell_type": "markdown",
   "metadata": {},
   "source": [
    "### 1.1 Map <a class=\"anchor\" id=\"chapter2\"></a>\n",
    "Even though we have a pandemic right now, you can still explore the country.\n",
    "\n"
   ]
  },
  {
   "cell_type": "markdown",
   "metadata": {},
   "source": [
    "Click on the **[Link](https://goo.gl/maps/QSBWm7u7biVfLtLe6)** to get a map."
   ]
  },
  {
   "cell_type": "markdown",
   "metadata": {},
   "source": [
    "## 2. Food and Recipes <a class=\"anchor\" id=\"chapter3\"></a>"
   ]
  },
  {
   "cell_type": "markdown",
   "metadata": {},
   "source": [
    "Here are some recipes of the most famous foods and recipes:\n",
    "## 2.1 Kimchi <a class=\"anchor\" id=\"chapter4\"></a>\n",
    "\n",
    "Kimchi is *the* dish that defines South Korea. It will be served with every meal and is also **free**. \n",
    "<a href=\"https://www.youtube.com/watch?v=eTucCw1w6Ak\"><img src=\"https://www.fairment.de/wp-content/uploads/2019/08/kimchiscene-500x500.jpg\" \n",
    "alt=\"IMAGE ALT TEXT HERE\" width=\"240\" height=\"180\" border=\"10\" /></a>"
   ]
  },
  {
   "cell_type": "markdown",
   "metadata": {},
   "source": [
    "## 2.2 Tteokkbokki <a class=\"anchor\" id=\"chapter6\"></a>\n",
    "\n",
    "When it comes to streetfood, you *HAVE* to try tteokkbokki. It is hot and spicy and ulitmately delicios. Below you can find a video on how to make it yourself.\n",
    "\n",
    "<a href=\"https://www.youtube.com/watch?v=XJ79FPwav4g&ab_channel=BabishCulinaryUniverseBabishCulinaryUniverseBest%C3%A4tigt\"><img src=\"https://media.istockphoto.com/photos/tteokbokki-with-eggs-in-gray-bowl-on-concrete-table-top-tteokbokki-is-picture-id1253629795?k=6&m=1253629795&s=612x612&w=0&h=gbHUJQQQa8KVRPEQi-98JvrLtx9wPF7GlkNIQD6hj9s=\" \n",
    "alt=\"IMAGE ALT TEXT HERE\" width=\"240\" height=\"180\" border=\"10\" /></a>"
   ]
  },
  {
   "cell_type": "markdown",
   "metadata": {},
   "source": [
    "## 3. How to's"
   ]
  },
  {
   "cell_type": "markdown",
   "metadata": {},
   "source": [
    "### 3.1 Things to do"
   ]
  },
  {
   "cell_type": "markdown",
   "metadata": {},
   "source": [
    "* Be polite, always bow for greeting\n",
    "* Try using chopsticks, also you can use spoons\n",
    "* Take as many photos as you can"
   ]
  },
  {
   "cell_type": "markdown",
   "metadata": {},
   "source": [
    "### 3.2 Things not to do"
   ]
  },
  {
   "cell_type": "markdown",
   "metadata": {},
   "source": [
    "* Enter a house with shoes\n",
    "* Blow your nose while eating\n",
    "* Speak on public transportations"
   ]
  }
 ],
 "metadata": {
  "kernelspec": {
   "display_name": "Python 3",
   "language": "python",
   "name": "python3"
  },
  "language_info": {
   "codemirror_mode": {
    "name": "ipython",
    "version": 3
   },
   "file_extension": ".py",
   "mimetype": "text/x-python",
   "name": "python",
   "nbconvert_exporter": "python",
   "pygments_lexer": "ipython3",
   "version": "3.8.8"
  }
 },
 "nbformat": 4,
 "nbformat_minor": 4
}
