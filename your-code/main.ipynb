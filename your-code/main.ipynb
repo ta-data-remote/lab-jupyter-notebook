{
 "cells": [
  {
   "cell_type": "markdown",
   "metadata": {},
   "source": [
    "# Index\n",
    "[Intro](#Intro)"
   ]
  },
  {
   "cell_type": "markdown",
   "metadata": {},
   "source": [
    "[Purpose](#Purpose)"
   ]
  },
  {
   "cell_type": "markdown",
   "metadata": {},
   "source": [
    "[Inputs](#Inputs)"
   ]
  },
  {
   "cell_type": "markdown",
   "metadata": {},
   "source": [
    "[Beach](#Beach)"
   ]
  },
  {
   "cell_type": "markdown",
   "metadata": {},
   "source": [
    "[Activities](#Activities)"
   ]
  },
  {
   "cell_type": "markdown",
   "metadata": {},
   "source": [
    "[Video](#Video)"
   ]
  },
  {
   "cell_type": "markdown",
   "metadata": {},
   "source": [
    "# Intro"
   ]
  },
  {
   "cell_type": "markdown",
   "metadata": {},
   "source": [
    "Hello!\n",
    "My name is Faisal :) \n",
    "\n",
    "![That's me](https://scontent-ber1-1.xx.fbcdn.net/v/t1.0-9/41063153_10160916846515128_554276894032265216_o.jpg?_nc_cat=102&ccb=1-3&_nc_sid=09cbfe&_nc_eui2=AeGw8MUDa1fmwbTU2g0YftmZZp19TKizl-NmnX1MqLOX42npwwSBj9GiI80Cm03TPGk&_nc_ohc=KBhz5FUJ9VkAX-6aUkt&_nc_ht=scontent-ber1-1.xx&oh=25a2a2adcebdbab2bbc2a90e0cac2dc3&oe=607F8AE2)"
   ]
  },
  {
   "cell_type": "markdown",
   "metadata": {},
   "source": [
    "# Purpose"
   ]
  },
  {
   "cell_type": "markdown",
   "metadata": {},
   "source": [
    "I would like you to know where I want to go so you can buy me the flight ticket!"
   ]
  },
  {
   "cell_type": "markdown",
   "metadata": {},
   "source": [
    "# Inputs"
   ]
  },
  {
   "cell_type": "code",
   "execution_count": 2,
   "metadata": {},
   "outputs": [
    {
     "name": "stdout",
     "output_type": "stream",
     "text": [
      "what's your name? Faisal\n",
      "Hello,  Faisal\n"
     ]
    }
   ],
   "source": [
    "name = input(\"what's your name? \")\n",
    "print(\"Hello, \", name)"
   ]
  },
  {
   "cell_type": "code",
   "execution_count": 2,
   "metadata": {},
   "outputs": [
    {
     "name": "stdout",
     "output_type": "stream",
     "text": [
      "what's your favorite destination? Jamaica\n",
      "It's:  Jamaica\n"
     ]
    }
   ],
   "source": [
    "destination = input(\"what's your favorite destination? \")\n",
    "print(\"It's: \", destination)"
   ]
  },
  {
   "cell_type": "markdown",
   "metadata": {},
   "source": [
    "# Beach"
   ]
  },
  {
   "cell_type": "markdown",
   "metadata": {},
   "source": [
    "This is a picture that I took there"
   ]
  },
  {
   "cell_type": "markdown",
   "metadata": {},
   "source": [
    "![beach](https://scontent-ber1-1.xx.fbcdn.net/v/t1.0-9/51579240_10161489243810128_5540182704290529280_o.jpg?_nc_cat=106&ccb=1-3&_nc_sid=8bfeb9&_nc_eui2=AeHXtjZ3KyFybhlEtle37keL2rMKLzePiUvaswovN4-JS0Q4tl0glKT-qy36bRBMQps&_nc_ohc=5M6JQTxr8LYAX9bz9h7&_nc_ht=scontent-ber1-1.xx&oh=503c8474685d21a19ffecfe16b3253ce&oe=607EEAA2)"
   ]
  },
  {
   "cell_type": "markdown",
   "metadata": {},
   "source": [
    "# Activities"
   ]
  },
  {
   "cell_type": "markdown",
   "metadata": {},
   "source": [
    "Over there you can:\n",
    "1. Swim\n",
    "2. Do some **Fishing**\n",
    "3. Go on a **Kayaking** trip"
   ]
  },
  {
   "cell_type": "markdown",
   "metadata": {},
   "source": [
    "# Video"
   ]
  },
  {
   "cell_type": "markdown",
   "metadata": {},
   "source": [
    "I would really like to go to Jamaica. [This is a video of my fav destination](https://www.youtube.com/watch?v=12P6rbpNDBQ)"
   ]
  }
 ],
 "metadata": {
  "kernelspec": {
   "display_name": "Python 3",
   "language": "python",
   "name": "python3"
  },
  "language_info": {
   "codemirror_mode": {
    "name": "ipython",
    "version": 3
   },
   "file_extension": ".py",
   "mimetype": "text/x-python",
   "name": "python",
   "nbconvert_exporter": "python",
   "pygments_lexer": "ipython3",
   "version": "3.8.5"
  }
 },
 "nbformat": 4,
 "nbformat_minor": 4
}
