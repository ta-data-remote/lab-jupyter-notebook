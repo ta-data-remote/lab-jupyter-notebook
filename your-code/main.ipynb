{
 "cells": [
  {
   "cell_type": "markdown",
   "metadata": {},
   "source": [
    "***"
   ]
  },
  {
   "cell_type": "markdown",
   "metadata": {},
   "source": [
    "# <span style='background:yellow'><span style='font-family:\"Monaco\"'>Index</span></span>"
   ]
  },
  {
   "cell_type": "markdown",
   "metadata": {},
   "source": [
    "### 1. [Introduction](#intro)\n",
    "### 2. [Who am I?](#who)\n",
    "### 3. [My Holiday Preference](#holiday)   \n",
    "### 4. [What about you?](#you)"
   ]
  },
  {
   "cell_type": "markdown",
   "metadata": {},
   "source": [
    "# <span style='font-family:\"Monaco\"'><span style='background:yellow'> Introduction</span></span> <a class=\"anchor\" id=\"intro\"></a>"
   ]
  },
  {
   "cell_type": "markdown",
   "metadata": {},
   "source": [
    "Welcome to my first project within <font color='blue'> **<span style='font-family:\"Optima\"'> Ironhack's Data Analytics Bootcamp**  </span> </font>! It is a simple one, but I'm sure we'll have *fun* going through it.\n",
    "\n",
    "The purpose of this project is to introduce you to my **<span style='font-family:\"Comic Sans MS\"'><span style='background:Pink'> <font color='Red'>H</font><font color='Coral'>O</font><font color='Yellow'>L</font><font color='Lime'>I</font><font color='Cyan'>D</font><font color='Blue'>A</font><font color='Purple'>Y</font> <font color='Black'>P</font><font color='Brown'>R</font><font color='Red'>E</font><font color='Coral'>F</font><font color='Yellow'>E</font><font color='Lime'>R</font><font color='Cyan'>E</font><font color='Blue'>N</font><font color='Purple'>C</font><font color='Black'>E</font></span></span>**  (and yes, that was Comic Sans ;D). But first,let me introduce myself."
   ]
  },
  {
   "cell_type": "markdown",
   "metadata": {},
   "source": [
    "# <span style='font-family:\"Monaco\"'><span style='background:yellow'>Who am I?</span></span> <a class=\"anchor\" id=\"who\"></a>"
   ]
  },
  {
   "attachments": {},
   "cell_type": "markdown",
   "metadata": {},
   "source": [
    "My name is Ignacio Rus Prados, although my friends call me <span style='font-family:\"Didot\"'><span style=\"font-size:2vw\">**Nacho**</span></span>. I would tell you more about me, but they say *a picture is worth a thousand words so*...\n",
    "\n",
    " \n",
    "<img src=\"IMG_0208.JPG\" alt=\"drawing\" width=\"500\"/>\n",
    "\n",
    "And without further ado, let's move onto my **<span style='font-family:\"Comic Sans MS\"'><span style='background:Pink'> <font color='Red'>H</font><font color='Coral'>O</font><font color='Yellow'>L</font><font color='Lime'>I</font><font color='Cyan'>D</font><font color='Blue'>A</font><font color='Purple'>Y</font> <font color='Black'>P</font><font color='Brown'>R</font><font color='Red'>E</font><font color='Coral'>F</font><font color='Yellow'>E</font><font color='Lime'>R</font><font color='Cyan'>E</font><font color='Blue'>N</font><font color='Purple'>C</font><font color='Black'>E</font></span></span>** (It took me some time to write that so allow me to use it just a few more times :P)"
   ]
  },
  {
   "cell_type": "markdown",
   "metadata": {},
   "source": [
    "# <span style='font-family:\"Monaco\"'><span style='background:yellow'>My **<span style='font-family:\"Comic Sans MS\"'><span style='background:Pink'> <font color='Red'>H</font><font color='Coral'>O</font><font color='Yellow'>L</font><font color='Lime'>I</font><font color='Cyan'>D</font><font color='Blue'>A</font><font color='Purple'>Y</font> <font color='Black'>P</font><font color='Brown'>R</font><font color='Red'>E</font><font color='Coral'>F</font><font color='Yellow'>E</font><font color='Lime'>R</font><font color='Cyan'>E</font><font color='Blue'>N</font><font color='Purple'>C</font><font color='Black'>E</font></span></span>**</span></span> <a class=\"anchor\" id=\"holiday\"></a>"
   ]
  },
  {
   "cell_type": "markdown",
   "metadata": {},
   "source": [
    "For me, the best choice for a holiday trip is a <font color='blue'> <span style='font-family:\"Optima\"'> **SURF TRIP!**  </span> </font> My friends and I usuallo go to **Portugal** to surf and we love it. The cliffs, the camping experience, the waves... a truly idyllic holiday. Here you can see me and my best friends enjoying a good day of surf at one of the beaches near ***Sagres***:\n",
    "<img src=\"Surf.png\" alt=\"drawing\" width=\"500\"/>\n",
    "\n",
    "Our ***TOP 3*** things we love to do there are:\n",
    "\n",
    "- **SURF!** Of course :D\n",
    "- Play Frisbee\n",
    "- Meet other surfers\n",
    "\n",
    "You can see a nice video of my favorite beach in Sagres, Beliche, if you click on this picture:\n",
    "\n",
    "[![YouTube Video Link](sagres.PNG)](https://www.youtube.com/watch?v=NeBP4rCQeSs)"
   ]
  },
  {
   "cell_type": "markdown",
   "metadata": {},
   "source": [
    "# <span style='font-family:\"Monaco\"'><span style='background:yellow'>What about you?</span></span> <a class=\"anchor\" id=\"you\"></a>"
   ]
  },
  {
   "cell_type": "markdown",
   "metadata": {},
   "source": [
    "Now I want to learn more about you! **Run the following code** so you can tell me something about yourself :D"
   ]
  },
  {
   "cell_type": "code",
   "execution_count": 19,
   "metadata": {},
   "outputs": [
    {
     "name": "stdout",
     "output_type": "stream",
     "text": [
      "What is your name?:Jose\n",
      "What do you like to do on holidays?:go to Italy\n",
      "\n",
      "\n",
      "That's so nice  Jose ! I'm looking forward to go to Italy with you! And you should join me on my next surf trip :D\n"
     ]
    }
   ],
   "source": [
    "name = input('What is your name?:')\n",
    "holiday = input('What do you like to do on holidays?:')\n",
    "\n",
    "print(\"\\n\")\n",
    "print(\"That's so nice \",name,\"! I'm looking forward to\",holiday,\"with you! And you should join me on my next surf trip :D\")"
   ]
  }
 ],
 "metadata": {
  "kernelspec": {
   "display_name": "Python 3",
   "language": "python",
   "name": "python3"
  },
  "language_info": {
   "codemirror_mode": {
    "name": "ipython",
    "version": 3
   },
   "file_extension": ".py",
   "mimetype": "text/x-python",
   "name": "python",
   "nbconvert_exporter": "python",
   "pygments_lexer": "ipython3",
   "version": "3.9.2"
  }
 },
 "nbformat": 4,
 "nbformat_minor": 4
}
