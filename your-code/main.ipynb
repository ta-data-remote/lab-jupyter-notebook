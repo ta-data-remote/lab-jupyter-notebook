{
 "cells": [
  {
   "cell_type": "markdown",
   "metadata": {},
   "source": [
    "# This is me... Nathalie"
   ]
  },
  {
   "cell_type": "markdown",
   "metadata": {},
   "source": [
    "[Intro](#Intro)"
   ]
  },
  {
   "cell_type": "markdown",
   "metadata": {},
   "source": [
    "[Picture](#Picture)"
   ]
  },
  {
   "cell_type": "markdown",
   "metadata": {},
   "source": [
    "[Video](#Video)"
   ]
  },
  {
   "cell_type": "markdown",
   "metadata": {},
   "source": [
    "[Reasons](#Reasons)"
   ]
  },
  {
   "cell_type": "markdown",
   "metadata": {},
   "source": [
    "## Intro"
   ]
  },
  {
   "cell_type": "markdown",
   "metadata": {},
   "source": [
    "*Tortola - here u'll see my favourite place on earth!!!*"
   ]
  },
  {
   "cell_type": "markdown",
   "metadata": {},
   "source": [
    "## Picture"
   ]
  },
  {
   "cell_type": "markdown",
   "metadata": {},
   "source": [
    "![facebook](data:image/jpeg;base64,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)"
   ]
  },
  {
   "cell_type": "markdown",
   "metadata": {},
   "source": [
    "## Video"
   ]
  },
  {
   "cell_type": "markdown",
   "metadata": {},
   "source": [
    "[Click here to see](https://www.youtube.com/watch?v=WkUW9Dn_tXc)"
   ]
  },
  {
   "cell_type": "markdown",
   "metadata": {},
   "source": [
    "## Reasons"
   ]
  },
  {
   "cell_type": "markdown",
   "metadata": {},
   "source": [
    "* Point 1 - Lovely ppl\n",
    "* Point 2 - the Weather is perfect\n",
    "* Point 3 - Option to relax and enjoy"
   ]
  },
  {
   "cell_type": "markdown",
   "metadata": {},
   "source": [
    "**It's been too long, and I wish I could go back soon...**"
   ]
  },
  {
   "cell_type": "code",
   "execution_count": null,
   "metadata": {},
   "outputs": [],
   "source": [
    "name = input(\"what's your name? \")\n",
    "print(\"Hi,\", name, \"thanks for visiting ;-)\")"
   ]
  }
 ],
 "metadata": {
  "kernelspec": {
   "display_name": "Python 3",
   "language": "python",
   "name": "python3"
  },
  "language_info": {
   "codemirror_mode": {
    "name": "ipython",
    "version": 3
   },
   "file_extension": ".py",
   "mimetype": "text/x-python",
   "name": "python",
   "nbconvert_exporter": "python",
   "pygments_lexer": "ipython3",
   "version": "3.8.5"
  }
 },
 "nbformat": 4,
 "nbformat_minor": 4
}
