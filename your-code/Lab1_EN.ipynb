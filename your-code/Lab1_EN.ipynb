{
 "cells": [
  {
   "cell_type": "markdown",
   "metadata": {},
   "source": [
    "# My journey around the world\n",
    "\n"
   ]
  },
  {
   "cell_type": "markdown",
   "metadata": {},
   "source": [
    "Table of contents\n",
    "* [Introduction](#chapter1)\n",
    "* [My favorite places](#chapter2)\n",
    "  * [Peru](#section_2_1)\n",
    "  * [Australia](#section_2_2)\n",
    "  * [Austria](#section_2_3)\n",
    "* [What to do when in Australia?](#chapter3)\n",
    "* [Next destinations](#chapter4)\n",
    "    * [Denia](#section_4_1)\n",
    "    * [Borovets](#section_4_2)\n"
   ]
  },
  {
   "cell_type": "markdown",
   "metadata": {},
   "source": [
    "## Introduction <a class=\"anchor\" id=\"chapter1\"></a>\n",
    "Hello I am **Elina Neu**\n",
    "in the following I will introduce myself and give a qucik overview of my favorite destination.\n",
    "I love to travel the world.\n",
    "These are my 3 top places I have travelled to."
   ]
  },
  {
   "cell_type": "code",
   "execution_count": 16,
   "metadata": {
    "scrolled": true
   },
   "outputs": [
    {
     "name": "stdout",
     "output_type": "stream",
     "text": [
      "/Users/elinaneu/Desktop/ironhack/lab-jupyter-notebook/your-code\n"
     ]
    }
   ],
   "source": [
    "import os\n",
    "print (os.getcwd())"
   ]
  },
  {
   "cell_type": "code",
   "execution_count": 17,
   "metadata": {},
   "outputs": [
    {
     "data": {
      "text/plain": [
       "<_io.TextIOWrapper name='IMG_3032.HEIC' mode='r' encoding='UTF-8'>"
      ]
     },
     "execution_count": 17,
     "metadata": {},
     "output_type": "execute_result"
    }
   ],
   "source": [
    "open(\"IMG_3032.HEIC\")"
   ]
  },
  {
   "cell_type": "markdown",
   "metadata": {},
   "source": [
    "##  My favorite places  <a class=\"anchor\" id=\"chapter2\"></a>"
   ]
  },
  {
   "cell_type": "markdown",
   "metadata": {},
   "source": [
    "### <font color='dark red'>1.Peru</font>  <a class=\"anchor\" id=\"#chapter2/section_2_1\"></a>\n",
    "__[PERU](https://www.peru.travel/de)__"
   ]
  },
  {
   "cell_type": "markdown",
   "metadata": {},
   "source": [
    "### <font color='aquamarin'>2.Australia</font> <a class=\"anchor\" id=\"#section_2_2\"></a>\n",
    "__[AUSTRALIA](https://www.youtube.com/watch?v=PdVLk_dPmtc)__"
   ]
  },
  {
   "cell_type": "markdown",
   "metadata": {},
   "source": [
    "### <font color='pink'>2.Austria</font> <a class=\"anchor\" id=\"#section_2_3\"></a>\n",
    "__[AUSTRIA](https://www.google.com/url?sa=t&rct=j&q=&esrc=s&source=web&cd=&cad=rja&uact=8&ved=2ahUKEwi_kc7jqPTwAhUDsaQKHULDAIAQtwIwAXoECAcQAw&url=https%3A%2F%2Fwww.youtube.com%2Fwatch%3Fv%3D7_Sw8W_EFJ8&usg=AOvVaw0IwnoIzPH-Z4yryPFrjrbg)__"
   ]
  },
  {
   "cell_type": "code",
   "execution_count": 16,
   "metadata": {},
   "outputs": [
    {
     "name": "stdout",
     "output_type": "stream",
     "text": [
      "Enter a number between -10 and 50: 25\n",
      "Bondi beach here we go\n"
     ]
    }
   ],
   "source": [
    "#travel destination depends on the temperature\n",
    "a = int(input(\"Enter a number between -10 and 50: \"))\n",
    "#print(a)\n",
    "if a < 0 :\n",
    "    print('Let´s go skiing')\n",
    "elif a >= 0 and a<25:\n",
    "    print('I will enjoy my time in Peru')\n",
    "elif a >= 25 and a<=50:\n",
    "    print('Bondi beach here we go')"
   ]
  },
  {
   "cell_type": "markdown",
   "metadata": {},
   "source": [
    "## What to do in Australia  <a class=\"anchor\" id=\"chapter3\"></a>\n",
    "* Go surfing at Bondi beach\n",
    "* Watch kangaroos\n",
    "* Have a barbecue at Manly beach\n"
   ]
  },
  {
   "cell_type": "markdown",
   "metadata": {},
   "source": [
    "![image](https://de-int-prod.sydney.com/sites/international/files/styles/header_slider/public/2016-12/Bondi-Beach-Sunrise-DNSW.jpg?itok=2Xl-k7Kz)"
   ]
  },
  {
   "cell_type": "markdown",
   "metadata": {},
   "source": [
    "![image](https://www.kunst-fuer-alle.de/media_kunst/img/52/g/52_6047163~mariusz-prusaczyk_kangaroo-in-australia.jpg)"
   ]
  },
  {
   "cell_type": "markdown",
   "metadata": {},
   "source": [
    "![image](https://planetofhotels.com/guide/sites/default/files/styles/paragraph__hero_banner__hb_image__1880bp/public/hero_banner/Manly-Beach.jpg)"
   ]
  },
  {
   "cell_type": "markdown",
   "metadata": {},
   "source": [
    "## Next destinations <a class=\"anchor\" id=\"chapter4\"></a>"
   ]
  },
  {
   "cell_type": "markdown",
   "metadata": {},
   "source": [
    "**Go with the flow :)**"
   ]
  }
 ],
 "metadata": {
  "kernelspec": {
   "display_name": "Python 3",
   "language": "python",
   "name": "python3"
  },
  "language_info": {
   "codemirror_mode": {
    "name": "ipython",
    "version": 3
   },
   "file_extension": ".py",
   "mimetype": "text/x-python",
   "name": "python",
   "nbconvert_exporter": "python",
   "pygments_lexer": "ipython3",
   "version": "3.8.8"
  }
 },
 "nbformat": 4,
 "nbformat_minor": 4
}
