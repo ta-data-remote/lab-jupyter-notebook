{
 "cells": [
  {
   "cell_type": "markdown",
   "metadata": {},
   "source": [
    "# Wenlin's holidays preference"
   ]
  },
  {
   "cell_type": "markdown",
   "metadata": {},
   "source": [
    "## Index\n",
    "1. [Name](#Name)\n",
    "2. [Holiday preferences](#Holiday)\n",
    "3. [Activities](#Activities)"
   ]
  },
  {
   "cell_type": "code",
   "execution_count": 3,
   "metadata": {},
   "outputs": [
    {
     "name": "stdout",
     "output_type": "stream",
     "text": [
      "Enter the name: Wenlin\n"
     ]
    }
   ],
   "source": [
    "name=input(\"Enter the name: \")"
   ]
  },
  {
   "cell_type": "markdown",
   "metadata": {},
   "source": [
    "## Name"
   ]
  },
  {
   "cell_type": "markdown",
   "metadata": {},
   "source": [
    "Wenlin Xiao"
   ]
  },
  {
   "cell_type": "markdown",
   "metadata": {},
   "source": [
    "![](pic.jpg)"
   ]
  },
  {
   "cell_type": "markdown",
   "metadata": {},
   "source": [
    "## Holiday"
   ]
  },
  {
   "cell_type": "code",
   "execution_count": 4,
   "metadata": {},
   "outputs": [
    {
     "name": "stdout",
     "output_type": "stream",
     "text": [
      "Where do I want to go? The beach\n"
     ]
    }
   ],
   "source": [
    "Holiday=input(\"Where do I want to go? \")"
   ]
  },
  {
   "cell_type": "markdown",
   "metadata": {},
   "source": [
    "(Yes I'm also inside, just behind the camera XD)\n",
    "![](seaside.jpg)"
   ]
  },
  {
   "cell_type": "markdown",
   "metadata": {},
   "source": [
    "## Activities"
   ]
  },
  {
   "cell_type": "markdown",
   "metadata": {},
   "source": [
    "* **swimming**\n",
    "* drinking $\\color{red}{\\text{c}}$$\\color{orange}{\\text{o}}$$\\color{green}{\\text{c}}$$\\color{blue}{\\text{k}}$$\\color{red}{\\text{t}}$$\\color{orange}{\\text{a}}$$\\color{green}{\\text{i}}$$\\color{blue}{\\text{l}}$$\\color{purple}{\\text{s}}$\n",
    "* watching *sunset*"
   ]
  },
  {
   "cell_type": "markdown",
   "metadata": {},
   "source": [
    "[![video](https://i.ytimg.com/an_webp/4pkhEyRoidk/mqdefault_6s.webp?du=3000&sqp=CLua44IG&rs=AOn4CLB_rosChXFj8GvSz6Ex-APgeC5HVg)](https://youtu.be/4pkhEyRoidk)"
   ]
  },
  {
   "cell_type": "markdown",
   "metadata": {},
   "source": []
  },
  {
   "cell_type": "markdown",
   "metadata": {},
   "source": []
  }
 ],
 "metadata": {
  "kernelspec": {
   "display_name": "Python 3",
   "language": "python",
   "name": "python3"
  },
  "language_info": {
   "codemirror_mode": {
    "name": "ipython",
    "version": 3
   },
   "file_extension": ".py",
   "mimetype": "text/x-python",
   "name": "python",
   "nbconvert_exporter": "python",
   "pygments_lexer": "ipython3",
   "version": "3.8.5"
  }
 },
 "nbformat": 4,
 "nbformat_minor": 4
}
